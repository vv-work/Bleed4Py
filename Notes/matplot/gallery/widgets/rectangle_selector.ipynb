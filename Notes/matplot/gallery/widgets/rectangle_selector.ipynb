{
  "cells": [
    {
      "cell_type": "code",
      "execution_count": null,
      "metadata": {
        "collapsed": false
      },
      "outputs": [],
      "source": [
        "%matplotlib inline"
      ]
    },
    {
      "cell_type": "markdown",
      "metadata": {},
      "source": [
        "\n# Rectangle Selector\n\n\nDo a mouseclick somewhere, move the mouse to some destination, release\nthe button.  This class gives click- and release-events and also draws\na line or a box from the click-point to the actual mouseposition\n(within the same axes) until the button is released.  Within the\nmethod ``self.ignore()`` it is checked whether the button from eventpress\nand eventrelease are the same.\n"
      ]
    },
    {
      "cell_type": "code",
      "execution_count": null,
      "metadata": {
        "collapsed": false
      },
      "outputs": [],
      "source": [
        "from matplotlib.widgets import RectangleSelector\nimport numpy as np\nimport matplotlib.pyplot as plt\n\n\ndef line_select_callback(eclick, erelease):\n    \"\"\"\n    Callback for line selection.\n\n    *eclick* and *erelease* are the press and release events.\n    \"\"\"\n    x1, y1 = eclick.xdata, eclick.ydata\n    x2, y2 = erelease.xdata, erelease.ydata\n    print(f\"({x1:3.2f}, {y1:3.2f}) --> ({x2:3.2f}, {y2:3.2f})\")\n    print(f\" The buttons you used were: {eclick.button} {erelease.button}\")\n\n\ndef toggle_selector(event):\n    print(' Key pressed.')\n    if event.key == 't':\n        if toggle_selector.RS.active:\n            print(' RectangleSelector deactivated.')\n            toggle_selector.RS.set_active(False)\n        else:\n            print(' RectangleSelector activated.')\n            toggle_selector.RS.set_active(True)\n\n\nfig, ax = plt.subplots()\nN = 100000  # If N is large one can see improvement by using blitting.\nx = np.linspace(0, 10, N)\n\nax.plot(x, np.sin(2*np.pi*x))  # plot something\nax.set_title(\n    \"Click and drag to draw a rectangle.\\n\"\n    \"Press 't' to toggle the selector on and off.\")\n\n# drawtype is 'box' or 'line' or 'none'\ntoggle_selector.RS = RectangleSelector(ax, line_select_callback,\n                                       drawtype='box', useblit=True,\n                                       button=[1, 3],  # disable middle button\n                                       minspanx=5, minspany=5,\n                                       spancoords='pixels',\n                                       interactive=True)\nfig.canvas.mpl_connect('key_press_event', toggle_selector)\nplt.show()"
      ]
    },
    {
      "cell_type": "markdown",
      "metadata": {},
      "source": [
        ".. admonition:: References\n\n   The use of the following functions, methods, classes and modules is shown\n   in this example:\n\n   - `matplotlib.widgets.RectangleSelector`\n\n"
      ]
    }
  ],
  "metadata": {
    "kernelspec": {
      "display_name": "Python 3",
      "language": "python",
      "name": "python3"
    },
    "language_info": {
      "codemirror_mode": {
        "name": "ipython",
        "version": 3
      },
      "file_extension": ".py",
      "mimetype": "text/x-python",
      "name": "python",
      "nbconvert_exporter": "python",
      "pygments_lexer": "ipython3",
      "version": "3.9.1"
    }
  },
  "nbformat": 4,
  "nbformat_minor": 0
}