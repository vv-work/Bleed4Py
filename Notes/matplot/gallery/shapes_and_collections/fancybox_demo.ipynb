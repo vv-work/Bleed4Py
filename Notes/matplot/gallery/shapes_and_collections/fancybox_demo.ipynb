{
  "cells": [
    {
      "cell_type": "code",
      "execution_count": null,
      "metadata": {
        "collapsed": false
      },
      "outputs": [],
      "source": [
        "%matplotlib inline"
      ]
    },
    {
      "cell_type": "markdown",
      "metadata": {},
      "source": [
        "\n# Drawing fancy boxes\n\n\nThe following examples show how to plot boxes with different visual properties.\n"
      ]
    },
    {
      "cell_type": "code",
      "execution_count": null,
      "metadata": {
        "collapsed": false
      },
      "outputs": [],
      "source": [
        "import matplotlib.pyplot as plt\nimport matplotlib.transforms as mtransforms\nimport matplotlib.patches as mpatch\nfrom matplotlib.patches import FancyBboxPatch"
      ]
    },
    {
      "cell_type": "markdown",
      "metadata": {},
      "source": [
        "First we'll show some sample boxes with fancybox.\n\n"
      ]
    },
    {
      "cell_type": "code",
      "execution_count": null,
      "metadata": {
        "collapsed": false
      },
      "outputs": [],
      "source": [
        "styles = mpatch.BoxStyle.get_styles()\nspacing = 1.2\n\nfigheight = (spacing * len(styles) + .5)\nfig = plt.figure(figsize=(4 / 1.5, figheight / 1.5))\nfontsize = 0.3 * 72\n\nfor i, stylename in enumerate(sorted(styles)):\n    fig.text(0.5, (spacing * (len(styles) - i) - 0.5) / figheight, stylename,\n             ha=\"center\",\n             size=fontsize,\n             bbox=dict(boxstyle=stylename, fc=\"w\", ec=\"k\"))"
      ]
    },
    {
      "cell_type": "markdown",
      "metadata": {},
      "source": [
        "Next we'll show off multiple fancy boxes at once.\n\n"
      ]
    },
    {
      "cell_type": "code",
      "execution_count": null,
      "metadata": {
        "collapsed": false
      },
      "outputs": [],
      "source": [
        "def add_fancy_patch_around(ax, bb, **kwargs):\n    fancy = FancyBboxPatch((bb.xmin, bb.ymin), bb.width, bb.height,\n                           fc=(1, 0.8, 1, 0.5), ec=(1, 0.5, 1, 0.5),\n                           **kwargs)\n    ax.add_patch(fancy)\n    return fancy\n\n\ndef draw_control_points_for_patches(ax):\n    for patch in ax.patches:\n        patch.axes.plot(*patch.get_path().vertices.T, \".\",\n                        c=patch.get_edgecolor())\n\n\nfig, axs = plt.subplots(2, 2, figsize=(8, 8))\n\n# Bbox object around which the fancy box will be drawn.\nbb = mtransforms.Bbox([[0.3, 0.4], [0.7, 0.6]])\n\nax = axs[0, 0]\n# a fancy box with round corners. pad=0.1\nfancy = add_fancy_patch_around(ax, bb, boxstyle=\"round,pad=0.1\")\nax.set(xlim=(0, 1), ylim=(0, 1), aspect=1,\n       title='boxstyle=\"round,pad=0.1\"')\n\nax = axs[0, 1]\n# bbox=round has two optional arguments: pad and rounding_size.\n# They can be set during the initialization.\nfancy = add_fancy_patch_around(ax, bb, boxstyle=\"round,pad=0.1\")\n# The boxstyle and its argument can be later modified with set_boxstyle().\n# Note that the old attributes are simply forgotten even if the boxstyle name\n# is same.\nfancy.set_boxstyle(\"round,pad=0.1,rounding_size=0.2\")\n# or: fancy.set_boxstyle(\"round\", pad=0.1, rounding_size=0.2)\nax.set(xlim=(0, 1), ylim=(0, 1), aspect=1,\n       title='boxstyle=\"round,pad=0.1,rounding_size=0.2\"')\n\nax = axs[1, 0]\n# mutation_scale determines the overall scale of the mutation, i.e. both pad\n# and rounding_size is scaled according to this value.\nfancy = add_fancy_patch_around(\n    ax, bb, boxstyle=\"round,pad=0.1\", mutation_scale=2)\nax.set(xlim=(0, 1), ylim=(0, 1), aspect=1,\n       title='boxstyle=\"round,pad=0.1\"\\n mutation_scale=2')\n\nax = axs[1, 1]\n# When the aspect ratio of the axes is not 1, the fancy box may not be what you\n# expected (green).\nfancy = add_fancy_patch_around(ax, bb, boxstyle=\"round,pad=0.2\")\nfancy.set(facecolor=\"none\", edgecolor=\"green\")\n# You can compensate this by setting the mutation_aspect (pink).\nfancy = add_fancy_patch_around(\n    ax, bb, boxstyle=\"round,pad=0.3\", mutation_aspect=0.5)\nax.set(xlim=(-.5, 1.5), ylim=(0, 1), aspect=2,\n       title='boxstyle=\"round,pad=0.3\"\\nmutation_aspect=.5')\n\nfor ax in axs.flat:\n    draw_control_points_for_patches(ax)\n    # Draw the original bbox (using boxstyle=square with pad=0).\n    fancy = add_fancy_patch_around(ax, bb, boxstyle=\"square,pad=0\")\n    fancy.set(edgecolor=\"black\", facecolor=\"none\", zorder=10)\n\nfig.tight_layout()\n\n\nplt.show()"
      ]
    },
    {
      "cell_type": "markdown",
      "metadata": {},
      "source": [
        ".. admonition:: References\n\n   The use of the following functions, methods, classes and modules is shown\n   in this example:\n\n   - `matplotlib.patches`\n   - `matplotlib.patches.FancyBboxPatch`\n   - `matplotlib.patches.BoxStyle`\n   - ``matplotlib.patches.BoxStyle.get_styles``\n   - `matplotlib.transforms.Bbox`\n   - `matplotlib.figure.Figure.text`\n   - `matplotlib.axes.Axes.text`\n\n"
      ]
    }
  ],
  "metadata": {
    "kernelspec": {
      "display_name": "Python 3",
      "language": "python",
      "name": "python3"
    },
    "language_info": {
      "codemirror_mode": {
        "name": "ipython",
        "version": 3
      },
      "file_extension": ".py",
      "mimetype": "text/x-python",
      "name": "python",
      "nbconvert_exporter": "python",
      "pygments_lexer": "ipython3",
      "version": "3.9.1"
    }
  },
  "nbformat": 4,
  "nbformat_minor": 0
}