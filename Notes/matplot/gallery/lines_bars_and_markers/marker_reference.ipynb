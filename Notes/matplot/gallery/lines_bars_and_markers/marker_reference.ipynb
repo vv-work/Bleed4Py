{
  "cells": [
    {
      "cell_type": "code",
      "execution_count": null,
      "metadata": {
        "collapsed": false
      },
      "outputs": [],
      "source": [
        "%matplotlib inline"
      ]
    },
    {
      "cell_type": "markdown",
      "metadata": {},
      "source": [
        "\n# Marker reference\n\n\nMatplotlib supports multiple categories of markers which are selected using\nthe ``marker`` parameter of plot commands:\n\n- `Unfilled markers`_\n- `Filled markers`_\n- `Markers created from TeX symbols`_\n- Custom markers can be created from paths. See\n  :doc:`/gallery/shapes_and_collections/marker_path`.\n\nFor a list of all markers see also the `matplotlib.markers` documentation.\n\nFor example usages see\n:doc:`/gallery/lines_bars_and_markers/scatter_star_poly`.\n"
      ]
    },
    {
      "cell_type": "code",
      "execution_count": null,
      "metadata": {
        "collapsed": false
      },
      "outputs": [],
      "source": [
        "import matplotlib.pyplot as plt\nfrom matplotlib.lines import Line2D\n\n\ntext_style = dict(horizontalalignment='right', verticalalignment='center',\n                  fontsize=12, fontfamily='monospace')\nmarker_style = dict(linestyle=':', color='0.8', markersize=10,\n                    markerfacecolor=\"tab:blue\", markeredgecolor=\"tab:blue\")\n\n\ndef format_axes(ax):\n    ax.margins(0.2)\n    ax.set_axis_off()\n    ax.invert_yaxis()\n\n\ndef split_list(a_list):\n    i_half = len(a_list) // 2\n    return a_list[:i_half], a_list[i_half:]"
      ]
    },
    {
      "cell_type": "markdown",
      "metadata": {},
      "source": [
        "Unfilled markers\n================\nUnfilled markers are single-colored.\n\n"
      ]
    },
    {
      "cell_type": "code",
      "execution_count": null,
      "metadata": {
        "collapsed": false
      },
      "outputs": [],
      "source": [
        "fig, axs = plt.subplots(ncols=2)\nfig.suptitle('Un-filled markers', fontsize=14)\n\n# Filter out filled markers and marker settings that do nothing.\nunfilled_markers = [m for m, func in Line2D.markers.items()\n                    if func != 'nothing' and m not in Line2D.filled_markers]\n\nfor ax, markers in zip(axs, split_list(unfilled_markers)):\n    for y, marker in enumerate(markers):\n        ax.text(-0.5, y, repr(marker), **text_style)\n        ax.plot([y] * 3, marker=marker, **marker_style)\n    format_axes(ax)\n\nplt.show()"
      ]
    },
    {
      "cell_type": "markdown",
      "metadata": {},
      "source": [
        "Filled markers\n==============\n\n"
      ]
    },
    {
      "cell_type": "code",
      "execution_count": null,
      "metadata": {
        "collapsed": false
      },
      "outputs": [],
      "source": [
        "fig, axs = plt.subplots(ncols=2)\nfig.suptitle('Filled markers', fontsize=14)\nfor ax, markers in zip(axs, split_list(Line2D.filled_markers)):\n    for y, marker in enumerate(markers):\n        ax.text(-0.5, y, repr(marker), **text_style)\n        ax.plot([y] * 3, marker=marker, **marker_style)\n    format_axes(ax)\n\nplt.show()"
      ]
    },
    {
      "cell_type": "markdown",
      "metadata": {},
      "source": [
        "\nMarker fill styles\n------------------\nThe edge color and fill color of filled markers can be specified separately.\nAdditionally, the ``fillstyle`` can be configured to be unfilled, fully\nfilled, or half-filled in various directions. The half-filled styles use\n``markerfacecoloralt`` as secondary fill color.\n\n"
      ]
    },
    {
      "cell_type": "code",
      "execution_count": null,
      "metadata": {
        "collapsed": false
      },
      "outputs": [],
      "source": [
        "fig, ax = plt.subplots()\nfig.suptitle('Marker fillstyle', fontsize=14)\nfig.subplots_adjust(left=0.4)\n\nfilled_marker_style = dict(marker='o', linestyle=':', markersize=15,\n                           color='darkgrey',\n                           markerfacecolor='tab:blue',\n                           markerfacecoloralt='lightsteelblue',\n                           markeredgecolor='brown')\n\nfor y, fill_style in enumerate(Line2D.fillStyles):\n    ax.text(-0.5, y, repr(fill_style), **text_style)\n    ax.plot([y] * 3, fillstyle=fill_style, **filled_marker_style)\nformat_axes(ax)\n\nplt.show()"
      ]
    },
    {
      "cell_type": "markdown",
      "metadata": {},
      "source": [
        "Markers created from TeX symbols\n================================\n\nUse :doc:`MathText </tutorials/text/mathtext>`, to use custom marker symbols,\nlike e.g. ``\"$\\u266B$\"``. For an overview over the STIX font symbols refer\nto the `STIX font table <http://www.stixfonts.org/allGlyphs.html>`_.\nAlso see the :doc:`/gallery/text_labels_and_annotations/stix_fonts_demo`.\n\n"
      ]
    },
    {
      "cell_type": "code",
      "execution_count": null,
      "metadata": {
        "collapsed": false
      },
      "outputs": [],
      "source": [
        "fig, ax = plt.subplots()\nfig.suptitle('Mathtext markers', fontsize=14)\nfig.subplots_adjust(left=0.4)\n\nmarker_style.update(markeredgecolor=\"None\", markersize=15)\nmarkers = [\"$1$\", r\"$\\frac{1}{2}$\", \"$f$\", \"$\\u266B$\", r\"$\\mathcal{A}$\"]\n\nfor y, marker in enumerate(markers):\n    # Escape dollars so that the text is written \"as is\", not as mathtext.\n    ax.text(-0.5, y, repr(marker).replace(\"$\", r\"\\$\"), **text_style)\n    ax.plot([y] * 3, marker=marker, **marker_style)\nformat_axes(ax)\n\nplt.show()"
      ]
    }
  ],
  "metadata": {
    "kernelspec": {
      "display_name": "Python 3",
      "language": "python",
      "name": "python3"
    },
    "language_info": {
      "codemirror_mode": {
        "name": "ipython",
        "version": 3
      },
      "file_extension": ".py",
      "mimetype": "text/x-python",
      "name": "python",
      "nbconvert_exporter": "python",
      "pygments_lexer": "ipython3",
      "version": "3.9.1"
    }
  },
  "nbformat": 4,
  "nbformat_minor": 0
}