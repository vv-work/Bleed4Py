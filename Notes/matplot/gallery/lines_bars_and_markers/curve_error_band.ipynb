{
  "cells": [
    {
      "cell_type": "code",
      "execution_count": null,
      "metadata": {
        "collapsed": false
      },
      "outputs": [],
      "source": [
        "%matplotlib inline"
      ]
    },
    {
      "cell_type": "markdown",
      "metadata": {},
      "source": [
        "\n# Curve with error band\n\n\nThis example illustrates how to draw an error band around a parametrized curve.\n\nA parametrized curve x(t), y(t) can directly be drawn using `~.Axes.plot`.\n"
      ]
    },
    {
      "cell_type": "code",
      "execution_count": null,
      "metadata": {
        "collapsed": false
      },
      "outputs": [],
      "source": [
        "import numpy as np\nfrom scipy.interpolate import splprep, splev\n\nimport matplotlib.pyplot as plt\nfrom matplotlib.path import Path\nfrom matplotlib.patches import PathPatch\n\nN = 400\nt = np.linspace(0, 2 * np.pi, N)\nr = 0.5 + np.cos(t)\nx, y = r * np.cos(t), r * np.sin(t)\n\nfig, ax = plt.subplots()\nax.plot(x, y)\nplt.show()"
      ]
    },
    {
      "cell_type": "markdown",
      "metadata": {},
      "source": [
        "An error band can be used to indicate the uncertainty of the curve.\nIn this example we assume that the error can be given as a scalar *err*\nthat describes the uncertainty perpendicular to the curve in every point.\n\nWe visualize this error as a colored band around the path using a\n`.PathPatch`. The patch is created from two path segments *(xp, yp)*, and\n*(xn, yn)* that are shifted by +/- *err* perpendicular to the curve *(x, y)*.\n\nNote: This method of using a `.PathPatch` is suited to arbitrary curves in\n2D. If you just have a standard y-vs.-x plot, you can use the simpler\n`~.Axes.fill_between` method (see also\n:doc:`/gallery/lines_bars_and_markers/fill_between_demo`).\n\n"
      ]
    },
    {
      "cell_type": "code",
      "execution_count": null,
      "metadata": {
        "collapsed": false
      },
      "outputs": [],
      "source": [
        "# Error amplitudes depending on the curve parameter *t*\n# (actual values are arbitrary and only for illustrative purposes):\nerr = 0.05 * np.sin(2 * t) ** 2 + 0.04 + 0.02 * np.cos(9 * t + 2)\n\n# calculate normals via derivatives of splines\ntck, u = splprep([x, y], s=0)\ndx, dy = splev(u, tck, der=1)\nl = np.hypot(dx, dy)\nnx = dy / l\nny = -dx / l\n\n# end points of errors\nxp = x + nx * err\nyp = y + ny * err\nxn = x - nx * err\nyn = y - ny * err\n\nvertices = np.block([[xp, xn[::-1]],\n                     [yp, yn[::-1]]]).T\ncodes = Path.LINETO * np.ones(len(vertices), dtype=Path.code_type)\ncodes[0] = codes[len(xp)] = Path.MOVETO\npath = Path(vertices, codes)\n\npatch = PathPatch(path, facecolor='C0', edgecolor='none', alpha=0.3)\n\nfig, ax = plt.subplots()\nax.plot(x, y)\nax.add_patch(patch)\nplt.show()"
      ]
    },
    {
      "cell_type": "markdown",
      "metadata": {},
      "source": [
        ".. admonition:: References\n\n   The use of the following functions, methods, classes and modules is shown\n   in this example:\n\n   - `matplotlib.patches.PathPatch`\n   - `matplotlib.path.Path`\n\n"
      ]
    }
  ],
  "metadata": {
    "kernelspec": {
      "display_name": "Python 3",
      "language": "python",
      "name": "python3"
    },
    "language_info": {
      "codemirror_mode": {
        "name": "ipython",
        "version": 3
      },
      "file_extension": ".py",
      "mimetype": "text/x-python",
      "name": "python",
      "nbconvert_exporter": "python",
      "pygments_lexer": "ipython3",
      "version": "3.9.1"
    }
  },
  "nbformat": 4,
  "nbformat_minor": 0
}