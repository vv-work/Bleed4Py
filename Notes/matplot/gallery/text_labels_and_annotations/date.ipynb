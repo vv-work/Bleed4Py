{
  "cells": [
    {
      "cell_type": "code",
      "execution_count": null,
      "metadata": {
        "collapsed": false
      },
      "outputs": [],
      "source": [
        "%matplotlib inline"
      ]
    },
    {
      "cell_type": "markdown",
      "metadata": {},
      "source": [
        "\n# Date tick labels\n\n\nShow how to make date plots in Matplotlib using date tick locators and\nformatters.  See :doc:`/gallery/ticks_and_spines/major_minor_demo` for more\ninformation on controlling major and minor ticks.\n\nMatplotlib date plotting is done by converting date instances into\ndays since an epoch (by default 1970-01-01T00:00:00). The\n:mod:`matplotlib.dates` module provides the converter functions `.date2num`\nand `.num2date`, which convert `datetime.datetime` and `numpy.datetime64`\nobjects to and from Matplotlib's internal representation.  These data\ntypes are registered with with the unit conversion mechanism described in\n:mod:`matplotlib.units`, so the conversion happens automatically for the user.\nThe registration process also sets the default tick ``locator`` and\n``formatter`` for the axis to be `~.matplotlib.dates.AutoDateLocator` and\n`~.matplotlib.dates.AutoDateFormatter`.  These can be changed manually with\n`.Axis.set_major_locator` and `.Axis.set_major_formatter`; see for example\n:doc:`/gallery/ticks_and_spines/date_demo_convert`.\n\nAn alternative formatter is the `~.matplotlib.dates.ConciseDateFormatter`\nas described at :doc:`/gallery/ticks_and_spines/date_concise_formatter`,\nwhich often removes the need to rotate the tick labels.\n"
      ]
    },
    {
      "cell_type": "code",
      "execution_count": null,
      "metadata": {
        "collapsed": false
      },
      "outputs": [],
      "source": [
        "import numpy as np\nimport matplotlib.pyplot as plt\nimport matplotlib.dates as mdates\nimport matplotlib.cbook as cbook\n\n# Load a numpy structured array from yahoo csv data with fields date, open,\n# close, volume, adj_close from the mpl-data/example directory.  This array\n# stores the date as an np.datetime64 with a day unit ('D') in the 'date'\n# column.\ndata = cbook.get_sample_data('goog.npz', np_load=True)['price_data']\n\nfig, ax = plt.subplots()\nax.plot('date', 'adj_close', data=data)\n\n# Major ticks every 6 months.\nfmt_half_year = mdates.MonthLocator(interval=6)\nax.xaxis.set_major_locator(fmt_half_year)\n\n# Minor ticks every month.\nfmt_month = mdates.MonthLocator()\nax.xaxis.set_minor_locator(fmt_month)\n\n# Text in the x axis will be displayed in 'YYYY-mm' format.\nax.xaxis.set_major_formatter(mdates.DateFormatter('%Y-%m'))\n\n# Round to nearest years.\ndatemin = np.datetime64(data['date'][0], 'Y')\ndatemax = np.datetime64(data['date'][-1], 'Y') + np.timedelta64(1, 'Y')\nax.set_xlim(datemin, datemax)\n\n# Format the coords message box, i.e. the numbers displayed as the cursor moves\n# across the axes within the interactive GUI.\nax.format_xdata = mdates.DateFormatter('%Y-%m')\nax.format_ydata = lambda x: f'${x:.2f}'  # Format the price.\nax.grid(True)\n\n# Rotates and right aligns the x labels, and moves the bottom of the\n# axes up to make room for them.\nfig.autofmt_xdate()\n\nplt.show()"
      ]
    }
  ],
  "metadata": {
    "kernelspec": {
      "display_name": "Python 3",
      "language": "python",
      "name": "python3"
    },
    "language_info": {
      "codemirror_mode": {
        "name": "ipython",
        "version": 3
      },
      "file_extension": ".py",
      "mimetype": "text/x-python",
      "name": "python",
      "nbconvert_exporter": "python",
      "pygments_lexer": "ipython3",
      "version": "3.9.1"
    }
  },
  "nbformat": 4,
  "nbformat_minor": 0
}