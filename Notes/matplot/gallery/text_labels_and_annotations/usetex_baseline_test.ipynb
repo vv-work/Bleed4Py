{
  "cells": [
    {
      "cell_type": "code",
      "execution_count": null,
      "metadata": {
        "collapsed": false
      },
      "outputs": [],
      "source": [
        "%matplotlib inline"
      ]
    },
    {
      "cell_type": "markdown",
      "metadata": {},
      "source": [
        "\n# Usetex Baseline Test\n\n\nA test for :rc:`text.latex.preview`, a deprecated feature which relied\non the preview.sty LaTeX package to properly align TeX baselines.  This\nfeature has been deprecated as Matplotlib's dvi parser now computes baselines\njust as well as preview.sty; this example will be removed together with\n:rc:`text.latex.preview` after the deprecation elapses.\n"
      ]
    },
    {
      "cell_type": "code",
      "execution_count": null,
      "metadata": {
        "collapsed": false
      },
      "outputs": [],
      "source": [
        "import matplotlib.pyplot as plt\nimport matplotlib.axes as maxes\n\n\nplt.rcParams.update({\"mathtext.fontset\": \"cm\", \"mathtext.rm\": \"serif\"})\n\n\n@maxes.subplot_class_factory\nclass LatexPreviewSubplot(maxes.Axes):\n    \"\"\"\n    A hackish way to simultaneously draw texts with text.latex.preview=True and\n    text.latex.preview=False in the same figure.  It does not work with the ps\n    backend.\n    \"\"\"\n\n    def __init__(self, *args, preview=False, **kwargs):\n        self.preview = preview\n        super().__init__(*args, **kwargs)\n\n    def draw(self, renderer):\n        from matplotlib import _api  # internal, *do not use*\n        with _api.suppress_matplotlib_deprecation_warning():\n            with plt.rc_context({\"text.latex.preview\": self.preview}):\n                super().draw(renderer)\n\n\ndef test_window_extent(ax, usetex, preview):\n\n    ax.xaxis.set_visible(False)\n    ax.yaxis.set_visible(False)\n\n    test_strings = [\"lg\", r\"$\\frac{1}{2}\\pi$\",\n                    r\"$p^{3^A}$\", r\"$p_{3_2}$\"]\n\n    ax.axvline(0, color=\"r\")\n\n    for i, s in enumerate(test_strings):\n        ax.axhline(i, color=\"r\")\n        ax.text(0., 3 - i, s,\n                usetex=usetex,\n                verticalalignment=\"baseline\",\n                size=50,\n                bbox=dict(pad=0, ec=\"k\", fc=\"none\"))\n\n    ax.set_xlim(-0.1, 1.1)\n    ax.set_ylim(-.8, 3.9)\n\n    title = f\"usetex={usetex}\\n\"\n    if usetex:\n        title += f\"preview={preview}\"\n    ax.set_title(title)\n\n\nfig = plt.figure(figsize=(2 * 3, 6.5))\n\nfor i, usetex, preview in [[0, False, False],\n                           [1, True, False],\n                           [2, True, True]]:\n    ax = LatexPreviewSubplot(fig, 1, 3, i + 1, preview=preview)\n    fig.add_subplot(ax)\n    fig.subplots_adjust(top=0.85)\n\n    test_window_extent(ax, usetex=usetex, preview=preview)\n\n\nplt.show()"
      ]
    }
  ],
  "metadata": {
    "kernelspec": {
      "display_name": "Python 3",
      "language": "python",
      "name": "python3"
    },
    "language_info": {
      "codemirror_mode": {
        "name": "ipython",
        "version": 3
      },
      "file_extension": ".py",
      "mimetype": "text/x-python",
      "name": "python",
      "nbconvert_exporter": "python",
      "pygments_lexer": "ipython3",
      "version": "3.9.1"
    }
  },
  "nbformat": 4,
  "nbformat_minor": 0
}