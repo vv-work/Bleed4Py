{
  "cells": [
    {
      "cell_type": "code",
      "execution_count": null,
      "metadata": {
        "collapsed": false
      },
      "outputs": [],
      "source": [
        "%matplotlib inline"
      ]
    },
    {
      "cell_type": "markdown",
      "metadata": {},
      "source": [
        "\n# Auto Subplots Adjust\n\n\nAutomatically adjust subplot parameters. This example shows a way to determine\na subplot parameter from the extent of the ticklabels using a callback on the\n:doc:`draw_event</users/event_handling>`.\n\nNote that a similar result would be achieved using `~.Figure.tight_layout`\nor `~.Figure.set_constrained_layout`; this example shows how one could\ncustomize the subplot parameter adjustment.\n"
      ]
    },
    {
      "cell_type": "code",
      "execution_count": null,
      "metadata": {
        "collapsed": false
      },
      "outputs": [],
      "source": [
        "import matplotlib.pyplot as plt\nimport matplotlib.transforms as mtransforms\n\nfig, ax = plt.subplots()\nax.plot(range(10))\nax.set_yticks((2, 5, 7))\nlabels = ax.set_yticklabels(('really, really, really', 'long', 'labels'))\n\ndef on_draw(event):\n    bboxes = []\n    for label in labels:\n        bbox = label.get_window_extent()\n        # the figure transform goes from relative coords->pixels and we\n        # want the inverse of that\n        bboxi = bbox.transformed(fig.transFigure.inverted())\n        bboxes.append(bboxi)\n    # the bbox that bounds all the bboxes, again in relative figure coords\n    bbox = mtransforms.Bbox.union(bboxes)\n    if fig.subplotpars.left < bbox.width:\n        # we need to move it over\n        fig.subplots_adjust(left=1.1*bbox.width)  # pad a little\n        fig.canvas.draw()\n\nfig.canvas.mpl_connect('draw_event', on_draw)\n\nplt.show()"
      ]
    },
    {
      "cell_type": "markdown",
      "metadata": {},
      "source": [
        ".. admonition:: References\n\n   The use of the following functions, methods, classes and modules is shown\n   in this example:\n\n   - `matplotlib.artist.Artist.get_window_extent`\n   - `matplotlib.transforms.Bbox`\n   - `matplotlib.transforms.BboxBase.transformed`\n   - `matplotlib.transforms.BboxBase.union`\n   - `matplotlib.transforms.Transform.inverted`\n   - `matplotlib.figure.Figure.subplots_adjust`\n   - `matplotlib.figure.SubplotParams`\n   - `matplotlib.backend_bases.FigureCanvasBase.mpl_connect`\n\n"
      ]
    }
  ],
  "metadata": {
    "kernelspec": {
      "display_name": "Python 3",
      "language": "python",
      "name": "python3"
    },
    "language_info": {
      "codemirror_mode": {
        "name": "ipython",
        "version": 3
      },
      "file_extension": ".py",
      "mimetype": "text/x-python",
      "name": "python",
      "nbconvert_exporter": "python",
      "pygments_lexer": "ipython3",
      "version": "3.9.1"
    }
  },
  "nbformat": 4,
  "nbformat_minor": 0
}