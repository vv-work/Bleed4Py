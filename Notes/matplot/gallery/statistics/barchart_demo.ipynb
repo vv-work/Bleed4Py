{
  "cells": [
    {
      "cell_type": "code",
      "execution_count": null,
      "metadata": {
        "collapsed": false
      },
      "outputs": [],
      "source": [
        "%matplotlib inline"
      ]
    },
    {
      "cell_type": "markdown",
      "metadata": {},
      "source": [
        "\n# Percentiles as horizontal bar chart\n\n\nBar charts are useful for visualizing counts, or summary statistics\nwith error bars. Also see the :doc:`/gallery/lines_bars_and_markers/barchart`\nor the :doc:`/gallery/lines_bars_and_markers/barh` example for simpler versions\nof those features.\n\nThis example comes from an application in which grade school gym\nteachers wanted to be able to show parents how their child did across\na handful of fitness tests, and importantly, relative to how other\nchildren did. To extract the plotting code for demo purposes, we'll\njust make up some data for little Johnny Doe.\n"
      ]
    },
    {
      "cell_type": "code",
      "execution_count": null,
      "metadata": {
        "collapsed": false
      },
      "outputs": [],
      "source": [
        "import numpy as np\nimport matplotlib.pyplot as plt\nfrom matplotlib.ticker import MaxNLocator\nfrom collections import namedtuple\n\nnp.random.seed(42)\n\nStudent = namedtuple('Student', ['name', 'grade', 'gender'])\nScore = namedtuple('Score', ['score', 'percentile'])\n\n# GLOBAL CONSTANTS\ntest_names = ['Pacer Test', 'Flexed Arm\\n Hang', 'Mile Run', 'Agility',\n              'Push Ups']\ntest_units = dict(zip(test_names, ['laps', 'sec', 'min:sec', 'sec', '']))\n\n\ndef attach_ordinal(num):\n    \"\"\"Convert an integer to an ordinal string, e.g. 2 -> '2nd'.\"\"\"\n    suffixes = {str(i): v\n                for i, v in enumerate(['th', 'st', 'nd', 'rd', 'th',\n                                       'th', 'th', 'th', 'th', 'th'])}\n    v = str(num)\n    # special case early teens\n    if v in {'11', '12', '13'}:\n        return v + 'th'\n    return v + suffixes[v[-1]]\n\n\ndef format_score(score, test):\n    \"\"\"\n    Create score labels for the right y-axis as the test name followed by the\n    measurement unit (if any), split over two lines.\n    \"\"\"\n    unit = test_units[test]\n    if unit:\n        return f'{score}\\n{unit}'\n    else:  # If no unit, don't include a newline, so that label stays centered.\n        return score\n\n\ndef format_ycursor(y):\n    y = int(y)\n    if y < 0 or y >= len(test_names):\n        return ''\n    else:\n        return test_names[y]\n\n\ndef plot_student_results(student, scores, cohort_size):\n    fig, ax1 = plt.subplots(figsize=(9, 7))  # Create the figure\n    fig.subplots_adjust(left=0.115, right=0.88)\n    fig.canvas.manager.set_window_title('Eldorado K-8 Fitness Chart')\n\n    pos = np.arange(len(test_names))\n\n    rects = ax1.barh(pos, [scores[k].percentile for k in test_names],\n                     align='center',\n                     height=0.5,\n                     tick_label=test_names)\n\n    ax1.set_title(student.name)\n\n    ax1.set_xlim([0, 100])\n    ax1.xaxis.set_major_locator(MaxNLocator(11))\n    ax1.xaxis.grid(True, linestyle='--', which='major',\n                   color='grey', alpha=.25)\n\n    # Plot a solid vertical gridline to highlight the median position\n    ax1.axvline(50, color='grey', alpha=0.25)\n\n    # Set the right-hand Y-axis ticks and labels\n    ax2 = ax1.twinx()\n\n    # Set the tick locations\n    ax2.set_yticks(pos)\n    # Set equal limits on both yaxis so that the ticks line up\n    ax2.set_ylim(ax1.get_ylim())\n\n    # Set the tick labels\n    ax2.set_yticklabels([format_score(scores[k].score, k) for k in test_names])\n\n    ax2.set_ylabel('Test Scores')\n\n    xlabel = ('Percentile Ranking Across {grade} Grade {gender}s\\n'\n              'Cohort Size: {cohort_size}')\n    ax1.set_xlabel(xlabel.format(grade=attach_ordinal(student.grade),\n                                 gender=student.gender.title(),\n                                 cohort_size=cohort_size))\n\n    rect_labels = []\n    # Lastly, write in the ranking inside each bar to aid in interpretation\n    for rect in rects:\n        # Rectangle widths are already integer-valued but are floating\n        # type, so it helps to remove the trailing decimal point and 0 by\n        # converting width to int type\n        width = int(rect.get_width())\n\n        rank_str = attach_ordinal(width)\n        # The bars aren't wide enough to print the ranking inside\n        if width < 40:\n            # Shift the text to the right side of the right edge\n            xloc = 5\n            # Black against white background\n            clr = 'black'\n            align = 'left'\n        else:\n            # Shift the text to the left side of the right edge\n            xloc = -5\n            # White on magenta\n            clr = 'white'\n            align = 'right'\n\n        # Center the text vertically in the bar\n        yloc = rect.get_y() + rect.get_height() / 2\n        label = ax1.annotate(\n            rank_str, xy=(width, yloc), xytext=(xloc, 0),\n            textcoords=\"offset points\",\n            horizontalalignment=align, verticalalignment='center',\n            color=clr, weight='bold', clip_on=True)\n        rect_labels.append(label)\n\n    # Make the interactive mouse over give the bar title\n    ax2.fmt_ydata = format_ycursor\n    # Return all of the artists created\n    return {'fig': fig,\n            'ax': ax1,\n            'ax_right': ax2,\n            'bars': rects,\n            'perc_labels': rect_labels}\n\n\nstudent = Student('Johnny Doe', 2, 'boy')\nscores = dict(zip(\n    test_names,\n    (Score(v, p) for v, p in\n     zip(['7', '48', '12:52', '17', '14'],\n         np.round(np.random.uniform(0, 100, len(test_names)), 0)))))\ncohort_size = 62  # The number of other 2nd grade boys\n\narts = plot_student_results(student, scores, cohort_size)\nplt.show()"
      ]
    },
    {
      "cell_type": "markdown",
      "metadata": {},
      "source": [
        ".. admonition:: References\n\n   The use of the following functions, methods, classes and modules is shown\n   in this example:\n\n   - `matplotlib.axes.Axes.bar` / `matplotlib.pyplot.bar`\n   - `matplotlib.axes.Axes.annotate` / `matplotlib.pyplot.annotate`\n   - `matplotlib.axes.Axes.twinx` / `matplotlib.pyplot.twinx`\n\n"
      ]
    }
  ],
  "metadata": {
    "kernelspec": {
      "display_name": "Python 3",
      "language": "python",
      "name": "python3"
    },
    "language_info": {
      "codemirror_mode": {
        "name": "ipython",
        "version": 3
      },
      "file_extension": ".py",
      "mimetype": "text/x-python",
      "name": "python",
      "nbconvert_exporter": "python",
      "pygments_lexer": "ipython3",
      "version": "3.9.1"
    }
  },
  "nbformat": 4,
  "nbformat_minor": 0
}