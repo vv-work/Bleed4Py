{
 "cells": [
  {
   "cell_type": "code",
   "execution_count": 16,
   "id": "59ec055d",
   "metadata": {},
   "outputs": [
    {
     "name": "stdout",
     "output_type": "stream",
     "text": [
      "\n",
      "    Directory: B:\\Lib\\Web\n",
      "\n",
      "Mode                 LastWriteTime         Length Name\n",
      "----                 -------------         ------ ----\n",
      "d----           6/10/2021 12:42 PM                .vscode\n",
      "d----           6/10/2021  2:22 PM                App_Data\n",
      "d----           6/10/2021  3:19 PM                Articles\n",
      "d----           6/10/2021  1:54 PM                aspnet_client\n",
      "d----           6/10/2021 12:44 PM                bin\n",
      "d----           6/10/2021  3:19 PM                Books\n",
      "d----           6/10/2021 12:42 PM                Builds\n",
      "d----           6/10/2021 12:42 PM                ChrisNotes\n",
      "d----           6/10/2021 12:42 PM                CSS\n",
      "d----           6/10/2021 12:43 PM                Doc\n",
      "d----           6/10/2021 12:43 PM                JupyterNotebook\n",
      "d----           6/10/2021 12:43 PM                Offline\n",
      "d----           6/10/2021 12:43 PM                OpenCV\n",
      "d----           6/10/2021 12:44 PM                Python\n",
      "d----           6/10/2021 12:44 PM                Steering\n",
      "d----           6/10/2021 12:44 PM                Templates\n",
      "d----           6/10/2021 12:44 PM                UnityDoc\n",
      "d----           6/10/2021 12:44 PM                WebGL\n",
      "-a---           6/10/2021 12:42 PM            523 ..gitignore.un~\n",
      "-a---           6/10/2021 12:42 PM              7 .gitignore\n",
      "-a---           6/10/2021 12:42 PM              0 .gitignore~\n",
      "-a---           6/10/2021  3:19 PM          12836 .List.md.un~\n",
      "-a---           6/10/2021  2:03 PM           4549 .web.config.un~\n",
      "-a---           6/10/2021 12:42 PM           7916 .youtube-dl.md.un~\n",
      "-a---           6/10/2021 12:42 PM            129 404error.md\n",
      "-a---           6/10/2021 12:44 PM           2760 barebones-sample.md\n",
      "-a---           6/10/2021 12:44 PM           1813 classified-ad.md\n",
      "-a---           6/10/2021 12:44 PM            162 index.md\n",
      "-a---           6/10/2021  3:19 PM           1979 List.md\n",
      "-a---           6/10/2021 12:44 PM             65 README.txt\n",
      "-a---           6/10/2021 12:44 PM            876 toc.md\n",
      "-a---           6/10/2021  2:49 PM           3244 web.config\n",
      "-a---           6/10/2021  2:02 PM           3027 web.config~\n",
      "\n"
     ]
    }
   ],
   "source": [
    "cd B:\\Lib\\Web\\\n",
    "ls\n"
   ]
  },
  {
   "cell_type": "code",
   "execution_count": 21,
   "id": "caa7c7ff",
   "metadata": {
    "scrolled": true
   },
   "outputs": [
    {
     "name": "stdout",
     "output_type": "stream",
     "text": [
      "[main e3fa9c8c4] Add books\n",
      " 10 files changed, 486 insertions(+), 98 deletions(-)\n",
      " rewrite Books/1Syntaxis/index.md (95%)\n",
      " rewrite Books/CV/index.md (97%)\n",
      " create mode 100644 Books/Genetics/index.md\n",
      " rewrite Books/ML/index.md (98%)\n",
      " rewrite Books/Net/index.md (96%)\n",
      " rewrite Books/Python/index.md (99%)\n",
      "To github.com:BloodAndScience/MyOfflineWeb.git\n",
      "   1b0a30212..e3fa9c8c4  main -> main\n"
     ]
    }
   ],
   "source": [
    "git add .\n",
    "git commit -m \"Add books\"\n",
    "git push"
   ]
  },
  {
   "cell_type": "code",
   "execution_count": 20,
   "id": "c37a23f2",
   "metadata": {},
   "outputs": [
    {
     "name": "stdout",
     "output_type": "stream",
     "text": [
      "Already up to date.\r\n"
     ]
    }
   ],
   "source": [
    "git pull"
   ]
  }
 ],
 "metadata": {
  "kernelspec": {
   "display_name": ".NET (PowerShell)",
   "language": "PowerShell",
   "name": ".net-powershell"
  },
  "language_info": {
   "file_extension": ".ps1",
   "mimetype": "text/x-powershell",
   "name": "PowerShell",
   "pygments_lexer": "powershell",
   "version": "7.0"
  }
 },
 "nbformat": 4,
 "nbformat_minor": 5
}
