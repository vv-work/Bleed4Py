{
 "cells": [
  {
   "cell_type": "markdown",
   "metadata": {
    "_cell_guid": "79c7e3d0-c299-4dcb-8224-4455121ee9b0",
    "_uuid": "d629ff2d2480ee46fbb7e2d37f6b5fab8052498a",
    "collapsed": true
   },
   "source": [
    "![](https://lh6.googleusercontent.com/-NzN4oVW-b8g/Rmpn3smdoCI/AAAAAAAAAKM/tRi8sd_STco/s1600/) \n",
    "> www.codeproject.com/KB/recipes/619039/SIFT.JPG\n",
    "\n",
    "[Cathedral of St. John the Baptist][trnava] in Trnava, Slovakia.\n",
    "\n",
    "# Feature Extraction\n",
    "For this competition, we will be mostly matching images based on their local features, a.k.a. interest points.\n",
    "\n",
    "A local image feature is a tiny patch in the image that's invariant to image scaling, rotation and change in illumination.  It's like the tip of a tower, or the corner of a window in the image above.  Unlike a random point on the background (sky) in the image above, the tip of the tower can be precise detected in most images of the same scene.  It is geometricly (translation, rotation, ...) and photometricly (brightness, exposure, ...) invariant.\n",
    "\n",
    "A good local feature is like the piece you start with when solving a jigsaw puzzle, except on a much smaller scale.  It's the eye of the cat or the corner of the table, not a piece on a blank wall.\n",
    "\n",
    "\n",
    "The extracted local features [must be][lectures]:\n",
    "- *Repeatable* and *precise* so they can be extracted from different images showing the same object.\n",
    "- *Distinctive* to the image, so images with different structure will not have them.\n",
    "\n",
    "\n",
    "There could be hundreds or thousands of such features in an image.  An image matcher algorithm could still work if some of the features are blocked by an object or badly deformed due to change in brightness or exposure.  Many local feature algorithms are highly efficient and can be used in real-time applications.\n",
    "\n",
    "Due to these requirements, most local feature detectors extract corners and blobs.\n",
    "\n",
    "## Local Feature Detection and Description\n",
    "There is a wealth of algorithms satisfying the above requirements for feature detection (finding interest points on an image) and description (generating a vector representation for them).  They include [Harris Corner Detection][harris], [Scale Invariant Feature Transform (SIFT)][sift], [Speeded-Up Robust Features (SURF)][surf], [Features from Accelerated Segment Test (FAST)][fast], and [Binary Robust Independent Elementary Features (BRIEF)][brief].\n",
    "\n",
    "In this tutorial, we will use [Oriented FAST and Rotated BRIEF (ORB)][orb] for feature detection and description.  This algorithm was [developed][orb_paper] and [implemented][orb] by OpenCV Labs, and it's part of their [OpenCV library][opencv_lib] for computer vision.\n",
    "\n",
    "Let's start by extracting the local features of the image shown in the banner above.  It's the [Cathedral of St. John the Baptist][trnava] in Trnava, Slovakia.\n",
    "\n",
    "[lectures]: https://pdfs.semanticscholar.org/5255/490925aa1e01ac0b9a55e93ec8c82efc07b7.pdf\n",
    "[harris]: https://docs.opencv.org/3.3.1/dc/d0d/tutorial_py_features_harris.html\n",
    "[sift]: https://docs.opencv.org/3.3.1/da/df5/tutorial_py_sift_intro.html\n",
    "[surf]: https://docs.opencv.org/3.3.1/df/dd2/tutorial_py_surf_intro.html\n",
    "[fast]: https://docs.opencv.org/3.3.1/df/d0c/tutorial_py_fast.html\n",
    "[brief]: https://docs.opencv.org/3.3.1/dc/d7d/tutorial_py_brief.html\n",
    "[orb]: https://docs.opencv.org/3.3.1/d1/d89/tutorial_py_orb.html\n",
    "[orb_paper]: http://www.willowgarage.com/sites/default/files/orb_final.pdf\n",
    "[opencv_lib]: https://docs.opencv.org/3.3.1/index.html\n",
    "[trnava]: https://en.wikipedia.org/wiki/St._John_the_Baptist_Cathedral_(Trnava)\n",
    "[uwash]: https://courses.cs.washington.edu/courses/cse455/09wi/Lects/lect6.pdf"
   ]
  },
  {
   "cell_type": "code",
   "execution_count": null,
   "metadata": {
    "_cell_guid": "a5540c06-1489-4ab4-ba9c-182c76c8fe65",
    "_uuid": "205405a88c3f9a0b97e9de83921a8018291aa2af",
    "collapsed": true
   },
   "outputs": [],
   "source": [
    "import numpy as np\n",
    "import pandas as pd\n",
    "import cv2\n",
    "import matplotlib.pyplot as plt\n",
    "import os\n",
    "\n",
    "%matplotlib inline"
   ]
  },
  {
   "cell_type": "code",
   "execution_count": null,
   "metadata": {
    "_cell_guid": "111a8032-409b-4456-bb26-0544f35334a0",
    "_uuid": "99cf36bffb799cb43f6d00a3b503c8dc4d06346f",
    "collapsed": true
   },
   "outputs": [],
   "source": [
    "dataset_path = '../input/google-image-recognition-tutorial'\n",
    "img_building = cv2.imread(os.path.join(dataset_path, 'building_1.jpg'))\n",
    "img_building = cv2.cvtColor(img_building, cv2.COLOR_BGR2RGB)  # Convert from cv's BRG default color order to RGB\n",
    "\n",
    "orb = cv2.ORB_create()  # OpenCV 3 backward incompatibility: Do not create a detector with `cv2.ORB()`.\n",
    "key_points, description = orb.detectAndCompute(img_building, None)\n",
    "img_building_keypoints = cv2.drawKeypoints(img_building, \n",
    "                                           key_points, \n",
    "                                           img_building, \n",
    "                                           flags=cv2.DRAW_MATCHES_FLAGS_DRAW_RICH_KEYPOINTS) # Draw circles.\n",
    "plt.figure(figsize=(16, 16))\n",
    "plt.title('ORB Interest Points')\n",
    "plt.imshow(img_building_keypoints); plt.show()"
   ]
  },
  {
   "cell_type": "markdown",
   "metadata": {
    "_cell_guid": "57e8f35c-1dd5-435b-b6ea-88668f347e74",
    "_uuid": "ccfb362d8f8c88a86cdb5505aaa3b0bcd06653bc"
   },
   "source": [
    "The found interest points/features are circled in the image above.  As we can see, some of these points are unique to this scene/building like the points near the top of the two towers.  However, others like the ones at the top of the tree may not be distinctive.\n",
    "\n",
    "## Feature Matching\n",
    "Now let's see if we can extract the same features from a different image of the same cathedral taken from a different angle."
   ]
  },
  {
   "cell_type": "code",
   "execution_count": null,
   "metadata": {
    "_cell_guid": "1d1facf6-2139-4c01-af8d-b9c3facffbe2",
    "_uuid": "4be79a604cc5cc15f755fc8009e0dbabb33f9831",
    "collapsed": true
   },
   "outputs": [],
   "source": [
    "def image_detect_and_compute(detector, img_name):\n",
    "    \"\"\"Detect and compute interest points and their descriptors.\"\"\"\n",
    "    img = cv2.imread(os.path.join(dataset_path, img_name))\n",
    "    img = cv2.cvtColor(img, cv2.COLOR_BGR2GRAY)\n",
    "    kp, des = detector.detectAndCompute(img, None)\n",
    "    return img, kp, des\n",
    "    \n",
    "\n",
    "def draw_image_matches(detector, img1_name, img2_name, nmatches=10):\n",
    "    \"\"\"Draw ORB feature matches of the given two images.\"\"\"\n",
    "    img1, kp1, des1 = image_detect_and_compute(detector, img1_name)\n",
    "    img2, kp2, des2 = image_detect_and_compute(detector, img2_name)\n",
    "    \n",
    "    bf = cv2.BFMatcher(cv2.NORM_HAMMING, crossCheck=True)\n",
    "    matches = bf.match(des1, des2)\n",
    "    matches = sorted(matches, key = lambda x: x.distance) # Sort matches by distance.  Best come first.\n",
    "    \n",
    "    img_matches = cv2.drawMatches(img1, kp1, img2, kp2, matches[:nmatches], img2, flags=2) # Show top 10 matches\n",
    "    plt.figure(figsize=(16, 16))\n",
    "    plt.title(type(detector))\n",
    "    plt.imshow(img_matches); plt.show()\n",
    "    \n",
    "\n",
    "orb = cv2.ORB_create()\n",
    "draw_image_matches(orb, 'building_1.jpg', 'building_2.jpg')"
   ]
  },
  {
   "cell_type": "code",
   "execution_count": null,
   "metadata": {
    "_cell_guid": "9af77751-f8a6-4f20-8eba-0a73e6174238",
    "_uuid": "322e3664bc7b38fb1cdbf637d875d82f6443d286",
    "collapsed": true
   },
   "outputs": [],
   "source": [
    "sift = cv2.xfeatures2d.SIFT_create()\n",
    "kp, des = sift.detectAndCompute(img_building, None)\n",
    "img_kp = cv2.drawKeypoints(img_building, kp, img_building)\n",
    "\n",
    "plt.figure(figsize=(15, 15))\n",
    "plt.imshow(img_kp); plt.show()"
   ]
  },
  {
   "cell_type": "code",
   "execution_count": null,
   "metadata": {
    "_cell_guid": "6e6033a7-2bd7-4fd4-9c16-c1b24baba18b",
    "_uuid": "d50fab273159d0955390aff97231f4a99be29578",
    "collapsed": true
   },
   "outputs": [],
   "source": [
    "img1, kp1, des1 = image_detect_and_compute(sift, 'building_1.jpg')\n",
    "img2, kp2, des2 = image_detect_and_compute(sift, 'building_2.jpg')\n",
    "\n",
    "FLANN_INDEX_KDTREE = 1\n",
    "index_params = dict(algorithm = FLANN_INDEX_KDTREE, trees = 5)\n",
    "search_params = dict(checks=50)\n",
    "\n",
    "flann = cv2.FlannBasedMatcher(index_params,search_params)\n",
    "matches = flann.knnMatch(des1, des2, k=2)\n",
    "\n",
    "matchesMask = [[0, 0] for i in range(len(matches))]\n",
    "# ratio test as per Lowe's paper\n",
    "for i, (m, n) in enumerate(matches):\n",
    "    if m.distance < 0.55*n.distance:\n",
    "        matchesMask[i] = [1, 0]\n",
    "\n",
    "draw_params = dict(matchColor=(0, 255, 0),\n",
    "                   singlePointColor=(255, 0, 0),\n",
    "                   matchesMask=matchesMask,\n",
    "                   flags=0)\n",
    "\n",
    "img3 = cv2.drawMatchesKnn(img1, kp1, img2, kp2, matches, None, **draw_params)\n",
    "plt.figure(figsize=(18, 18))\n",
    "plt.imshow(img3); plt.show()"
   ]
  },
  {
   "cell_type": "markdown",
   "metadata": {
    "_cell_guid": "5af65fd5-6895-4788-ada4-a487ea318cd8",
    "_uuid": "1c96b52917facfc7ebbf4b6f775067a443c6f229"
   },
   "source": [
    "More than half of the top 10 matches were correct.  In real appliations, instead of using the top `x` matches,  a match distance threshold is used to filter out spurious matches.\n",
    "\n",
    "\n",
    "## References\n",
    "- Kristen Grauman and Bastian Leibe. 2011. [Visual Object Recognition (1st ed.)][lectures]. Morgan & Claypool Publishers.\n",
    "- Rublee, Ethan & Rabaud, Vincent & Konolige, Kurt & Bradski, Gary. (2011). [ORB: an efficient alternative to SIFT or SURF][orb_paper]. Proceedings of the IEEE International Conference on Computer Vision.\n",
    "\n",
    "[lectures]: https://pdfs.semanticscholar.org/5255/490925aa1e01ac0b9a55e93ec8c82efc07b7.pdf\n",
    "[orb_paper]: http://www.willowgarage.com/sites/default/files/orb_final.pdf\n",
    "\n"
   ]
  }
 ],
 "metadata": {
  "kernelspec": {
   "display_name": "Python 3",
   "language": "python",
   "name": "python3"
  },
  "language_info": {
   "codemirror_mode": {
    "name": "ipython",
    "version": 3
   },
   "file_extension": ".py",
   "mimetype": "text/x-python",
   "name": "python",
   "nbconvert_exporter": "python",
   "pygments_lexer": "ipython3",
   "version": "3.9.5"
  }
 },
 "nbformat": 4,
 "nbformat_minor": 1
}
